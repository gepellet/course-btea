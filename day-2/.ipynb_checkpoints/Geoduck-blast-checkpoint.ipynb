{
 "cells": [
  {
   "cell_type": "code",
   "execution_count": 1,
   "metadata": {
    "button": false,
    "collapsed": false,
    "deletable": true,
    "new_sheet": false,
    "run_control": {
     "read_only": false
    }
   },
   "outputs": [
    {
     "name": "stdout",
     "output_type": "stream",
     "text": [
      "00-better-downloads.ipynb       Geoduck-blast.ipynb\r\n",
      "01-Local_BLAST.ipynb            Geoduck-transcriptome-v2.fasta\r\n"
     ]
    }
   ],
   "source": [
    "ls"
   ]
  },
  {
   "cell_type": "code",
   "execution_count": 2,
   "metadata": {
    "button": false,
    "collapsed": false,
    "deletable": true,
    "new_sheet": false,
    "run_control": {
     "read_only": false
    }
   },
   "outputs": [
    {
     "name": "stdout",
     "output_type": "stream",
     "text": [
      "  % Total    % Received % Xferd  Average Speed   Time    Time     Time  Current\n",
      "                                 Dload  Upload   Total   Spent    Left  Speed\n",
      "100 1131k  100 1131k    0     0   824k      0  0:00:01  0:00:01 --:--:--  825k\n"
     ]
    }
   ],
   "source": [
    "!curl -O http://owl.fish.washington.edu/btea/data/Geoduck_uniprot.out"
   ]
  },
  {
   "cell_type": "code",
   "execution_count": 3,
   "metadata": {
    "button": false,
    "collapsed": false,
    "deletable": true,
    "new_sheet": false,
    "run_control": {
     "read_only": false
    }
   },
   "outputs": [
    {
     "name": "stdout",
     "output_type": "stream",
     "text": [
      "00-better-downloads.ipynb       Geoduck-transcriptome-v2.fasta\r\n",
      "01-Local_BLAST.ipynb            Geoduck_uniprot.out\r\n",
      "Geoduck-blast.ipynb\r\n"
     ]
    }
   ],
   "source": [
    "ls"
   ]
  },
  {
   "cell_type": "code",
   "execution_count": 4,
   "metadata": {
    "button": false,
    "collapsed": false,
    "deletable": true,
    "new_sheet": false,
    "run_control": {
     "read_only": false
    }
   },
   "outputs": [
    {
     "name": "stdout",
     "output_type": "stream",
     "text": [
      "comp95_c0_seq1\tsp|Q8K358|PIGU_MOUSE\t67.53\t77\t25\t0\t231\t1\t258\t334\t7e-32\t  119\r\n",
      "comp146_c0_seq1\tsp|P37137|LHX5_XENLA\t79.31\t58\t12\t0\t175\t2\t4\t61\t4e-31\t  116\r\n",
      "comp195_c0_seq1\tsp|Q8HXQ0|SODC_MACMU\t54.84\t62\t28\t0\t188\t3\t80\t141\t1e-14\t68.9\r\n",
      "comp296_c0_seq1\tsp|P59966|DNAB_MYCBO\t67.16\t67\t22\t0\t201\t1\t72\t138\t1e-11\t63.2\r\n",
      "comp434_c0_seq1\tsp|Q07954|LRP1_HUMAN\t38.46\t78\t44\t3\t34\t267\t4094\t4167\t8e-10\t59.3\r\n",
      "comp455_c1_seq1\tsp|Q9Y2K2|SIK3_HUMAN\t84.85\t66\t10\t0\t200\t3\t65\t130\t1e-32\t  124\r\n",
      "comp943_c0_seq1\tsp|P15586|GNS_HUMAN\t41.89\t74\t39\t3\t235\t17\t385\t455\t3e-08\t53.5\r\n",
      "comp945_c0_seq1\tsp|Q14517|FAT1_HUMAN\t49.09\t55\t25\t2\t51\t212\t4017\t4069\t2e-10\t60.8\r\n",
      "comp1059_c0_seq1\tsp|Q6A7L9|SYP_PROAC\t100.00\t76\t0\t0\t228\t1\t158\t233\t5e-45\t  156\r\n",
      "comp1266_c0_seq1\tsp|Q60806|PLK3_MOUSE\t55.10\t49\t22\t0\t3\t149\t98\t146\t2e-14\t70.9\r\n"
     ]
    }
   ],
   "source": [
    "!head Geoduck_uniprot.out"
   ]
  },
  {
   "cell_type": "code",
   "execution_count": null,
   "metadata": {
    "button": false,
    "collapsed": true,
    "deletable": true,
    "new_sheet": false,
    "run_control": {
     "read_only": false
    }
   },
   "outputs": [],
   "source": []
  }
 ],
 "metadata": {
  "kernelspec": {
   "display_name": "Python 3",
   "language": "python",
   "name": "python3"
  },
  "language_info": {
   "codemirror_mode": {
    "name": "ipython",
    "version": 3
   },
   "file_extension": ".py",
   "mimetype": "text/x-python",
   "name": "python",
   "nbconvert_exporter": "python",
   "pygments_lexer": "ipython3",
   "version": "3.5.0"
  }
 },
 "nbformat": 4,
 "nbformat_minor": 0
}
