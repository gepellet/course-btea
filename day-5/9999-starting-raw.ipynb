{
 "cells": [
  {
   "cell_type": "markdown",
   "metadata": {
    "collapsed": true
   },
   "source": [
    "# Starting with just a few thousand reads"
   ]
  },
  {
   "cell_type": "code",
   "execution_count": 1,
   "metadata": {
    "collapsed": false
   },
   "outputs": [
    {
     "name": "stdout",
     "output_type": "stream",
     "text": [
      "@B802FWABXX:4:1:10357:2058#CGATGTAT/2\r\n",
      "ATGTAAGGAGGATGGGTTGTCAATAATGTAAGGAGGATGAGTTGTCAATAATGTAAGGAGGTTGGGTTGTCAATAATGTAAGGAGGATGG\r\n",
      "+\r\n",
      "eeeeeafffffffffeeeeefeffcffffffffdfefffffedfffffffdffffcdeeee\\eeed`ddcceece`faefeeeddc`ac^\r\n",
      "@B802FWABXX:4:1:15643:2057#CGATGTAT/2\r\n",
      "CGTGCCCTTTGGTGGTAAAAGAATTTTTCATAAGTAAACAAAATGTTCTCTTTACAACTGCTGCCAACATTGCTGAATGTGCAGTTAATA\r\n",
      "+\r\n",
      "ffffffffffffdffdeeeeefffffffffffffefffffffffffffffefffefffeffffffceffffffffffffdefffffffef\r\n",
      "@B802FWABXX:4:1:16311:2057#CGATGTAT/2\r\n",
      "CCCCCGATAAAACACAAACTTGAGCACTAATATTTTCCATACATGACCAGACTATCCTCTAGTGTCTGAGTGTACTCAAAGTGGTGAGAC\r\n"
     ]
    }
   ],
   "source": [
    "!head ../data/test-data.fq"
   ]
  },
  {
   "cell_type": "markdown",
   "metadata": {},
   "source": [
    "\n",
    "<img src=\"http://eagle.fish.washington.edu/cnidarian/skitch/Babraham_Bioinformatics_-_FastQC_A_Quality_Control_tool_for_High_Throughput_Sequence_Data_and_Applications_1BDC32CD.png\" alt=\"Babraham_Bioinformatics_-_FastQC_A_Quality_Control_tool_for_High_Throughput_Sequence_Data_and_Applications_1BDC32CD.png\"/>"
   ]
  },
  {
   "cell_type": "markdown",
   "metadata": {},
   "source": [
    "<img src=\"http://eagle.fish.washington.edu/cnidarian/skitch/FastQC_1BDC334F.png\" alt=\"FastQC_1BDC334F.png\"/>"
   ]
  },
  {
   "cell_type": "code",
   "execution_count": 7,
   "metadata": {
    "collapsed": false
   },
   "outputs": [
    {
     "name": "stdout",
     "output_type": "stream",
     "text": [
      "/bin/sh: /Applications/FastQC: is a directory\r\n"
     ]
    }
   ],
   "source": [
    "!/Applications/FastQC ../data/test-data.fq"
   ]
  },
  {
   "cell_type": "markdown",
   "metadata": {},
   "source": [
    "<img src=\"http://eagle.fish.washington.edu/cnidarian/skitch/Home_·_trinityrnaseq_trinityrnaseq_Wiki_1BDC352D.png\" alt=\"Home_·_trinityrnaseq_trinityrnaseq_Wiki_1BDC352D.png\"/>"
   ]
  },
  {
   "cell_type": "code",
   "execution_count": 11,
   "metadata": {
    "collapsed": false
   },
   "outputs": [
    {
     "name": "stdout",
     "output_type": "stream",
     "text": [
      "Error, need either options 'left' and 'right' or option 'single' or 'genome_guided_bam'\r\n"
     ]
    }
   ],
   "source": [
    "!/Applications/trinityrnaseq-2.1.1/Trinity \\\n",
    "--seqType fq --max_memory 1G --single ../data/test-data.fq  \\\n",
    "--CPU 4\n"
   ]
  },
  {
   "cell_type": "code",
   "execution_count": 10,
   "metadata": {
    "collapsed": false
   },
   "outputs": [
    {
     "name": "stdout",
     "output_type": "stream",
     "text": [
      "tar: Unrecognized archive format\n",
      "tar: Error exit delayed from previous errors.\n"
     ]
    }
   ],
   "source": [
    "!tar -zxvf  /Users/sr320/Desktop/BiGoRNA_GTGTCTAC_1.fastq.gz"
   ]
  },
  {
   "cell_type": "code",
   "execution_count": null,
   "metadata": {
    "collapsed": true
   },
   "outputs": [],
   "source": []
  }
 ],
 "metadata": {
  "kernelspec": {
   "display_name": "Python 3",
   "language": "python",
   "name": "python3"
  },
  "language_info": {
   "codemirror_mode": {
    "name": "ipython",
    "version": 3
   },
   "file_extension": ".py",
   "mimetype": "text/x-python",
   "name": "python",
   "nbconvert_exporter": "python",
   "pygments_lexer": "ipython3",
   "version": "3.5.0"
  }
 },
 "nbformat": 4,
 "nbformat_minor": 0
}
